{
 "cells": [
  {
   "cell_type": "markdown",
   "metadata": {},
   "source": [
    "# MoMA Artists: Exploratory Data Analysis & Visualization\n",
    "\n",
    "This notebook details the steps taken to conduct an exploratory analysis on the artists dataset provided by the \n",
    "Museum of Modern Art (MoMA). This dataset includes artists who have works in MoMA's collection and have been cataloged\n",
    "in its database. This exploratory analysis attempts to uncover any themes in representation and to get a better idea of what kinds of artists are represented the most at MoMA."
   ]
  },
  {
   "cell_type": "code",
   "execution_count": 1,
   "metadata": {},
   "outputs": [],
   "source": [
    "#First begin by importing the following libraries to conduct the analysis and create visualizations:\n",
    "\n",
    "import numpy as np\n",
    "import pandas as pd\n",
    "import matplotlib.pyplot as plt\n",
    "import seaborn as sns"
   ]
  },
  {
   "cell_type": "code",
   "execution_count": 2,
   "metadata": {},
   "outputs": [
    {
     "data": {
      "text/html": [
       "<div>\n",
       "<style scoped>\n",
       "    .dataframe tbody tr th:only-of-type {\n",
       "        vertical-align: middle;\n",
       "    }\n",
       "\n",
       "    .dataframe tbody tr th {\n",
       "        vertical-align: top;\n",
       "    }\n",
       "\n",
       "    .dataframe thead th {\n",
       "        text-align: right;\n",
       "    }\n",
       "</style>\n",
       "<table border=\"1\" class=\"dataframe\">\n",
       "  <thead>\n",
       "    <tr style=\"text-align: right;\">\n",
       "      <th></th>\n",
       "      <th>ConstituentID</th>\n",
       "      <th>DisplayName</th>\n",
       "      <th>ArtistBio</th>\n",
       "      <th>Nationality</th>\n",
       "      <th>Gender</th>\n",
       "      <th>BeginDate</th>\n",
       "      <th>EndDate</th>\n",
       "      <th>Wiki QID</th>\n",
       "      <th>ULAN</th>\n",
       "    </tr>\n",
       "  </thead>\n",
       "  <tbody>\n",
       "    <tr>\n",
       "      <th>0</th>\n",
       "      <td>1</td>\n",
       "      <td>Robert Arneson</td>\n",
       "      <td>American, 1930–1992</td>\n",
       "      <td>American</td>\n",
       "      <td>Male</td>\n",
       "      <td>1930</td>\n",
       "      <td>1992</td>\n",
       "      <td>NaN</td>\n",
       "      <td>NaN</td>\n",
       "    </tr>\n",
       "    <tr>\n",
       "      <th>1</th>\n",
       "      <td>2</td>\n",
       "      <td>Doroteo Arnaiz</td>\n",
       "      <td>Spanish, born 1936</td>\n",
       "      <td>Spanish</td>\n",
       "      <td>Male</td>\n",
       "      <td>1936</td>\n",
       "      <td>0</td>\n",
       "      <td>NaN</td>\n",
       "      <td>NaN</td>\n",
       "    </tr>\n",
       "    <tr>\n",
       "      <th>2</th>\n",
       "      <td>3</td>\n",
       "      <td>Bill Arnold</td>\n",
       "      <td>American, born 1941</td>\n",
       "      <td>American</td>\n",
       "      <td>Male</td>\n",
       "      <td>1941</td>\n",
       "      <td>0</td>\n",
       "      <td>NaN</td>\n",
       "      <td>NaN</td>\n",
       "    </tr>\n",
       "    <tr>\n",
       "      <th>3</th>\n",
       "      <td>4</td>\n",
       "      <td>Charles Arnoldi</td>\n",
       "      <td>American, born 1946</td>\n",
       "      <td>American</td>\n",
       "      <td>Male</td>\n",
       "      <td>1946</td>\n",
       "      <td>0</td>\n",
       "      <td>Q1063584</td>\n",
       "      <td>500027998.0</td>\n",
       "    </tr>\n",
       "    <tr>\n",
       "      <th>4</th>\n",
       "      <td>5</td>\n",
       "      <td>Per Arnoldi</td>\n",
       "      <td>Danish, born 1941</td>\n",
       "      <td>Danish</td>\n",
       "      <td>Male</td>\n",
       "      <td>1941</td>\n",
       "      <td>0</td>\n",
       "      <td>NaN</td>\n",
       "      <td>NaN</td>\n",
       "    </tr>\n",
       "    <tr>\n",
       "      <th>...</th>\n",
       "      <td>...</td>\n",
       "      <td>...</td>\n",
       "      <td>...</td>\n",
       "      <td>...</td>\n",
       "      <td>...</td>\n",
       "      <td>...</td>\n",
       "      <td>...</td>\n",
       "      <td>...</td>\n",
       "      <td>...</td>\n",
       "    </tr>\n",
       "    <tr>\n",
       "      <th>15231</th>\n",
       "      <td>132538</td>\n",
       "      <td>Noah Davis</td>\n",
       "      <td>American, 1983–2015</td>\n",
       "      <td>American</td>\n",
       "      <td>Male</td>\n",
       "      <td>1983</td>\n",
       "      <td>2015</td>\n",
       "      <td>NaN</td>\n",
       "      <td>NaN</td>\n",
       "    </tr>\n",
       "    <tr>\n",
       "      <th>15232</th>\n",
       "      <td>132545</td>\n",
       "      <td>Ann Tyng</td>\n",
       "      <td>American, born China, 1920–2011</td>\n",
       "      <td>American</td>\n",
       "      <td>Female</td>\n",
       "      <td>1920</td>\n",
       "      <td>2011</td>\n",
       "      <td>NaN</td>\n",
       "      <td>NaN</td>\n",
       "    </tr>\n",
       "    <tr>\n",
       "      <th>15233</th>\n",
       "      <td>132719</td>\n",
       "      <td>Dalton Paula</td>\n",
       "      <td>Brazilian, born 1982</td>\n",
       "      <td>Brazilian</td>\n",
       "      <td>NaN</td>\n",
       "      <td>1982</td>\n",
       "      <td>0</td>\n",
       "      <td>NaN</td>\n",
       "      <td>NaN</td>\n",
       "    </tr>\n",
       "    <tr>\n",
       "      <th>15234</th>\n",
       "      <td>132734</td>\n",
       "      <td>Hans Behrendt</td>\n",
       "      <td>German, 1889–1942</td>\n",
       "      <td>German</td>\n",
       "      <td>Male</td>\n",
       "      <td>1889</td>\n",
       "      <td>1942</td>\n",
       "      <td>NaN</td>\n",
       "      <td>NaN</td>\n",
       "    </tr>\n",
       "    <tr>\n",
       "      <th>15235</th>\n",
       "      <td>132735</td>\n",
       "      <td>Yuli Karasik</td>\n",
       "      <td>Russian, 1923–2005</td>\n",
       "      <td>Russian</td>\n",
       "      <td>Male</td>\n",
       "      <td>1923</td>\n",
       "      <td>2005</td>\n",
       "      <td>NaN</td>\n",
       "      <td>NaN</td>\n",
       "    </tr>\n",
       "  </tbody>\n",
       "</table>\n",
       "<p>15236 rows × 9 columns</p>\n",
       "</div>"
      ],
      "text/plain": [
       "       ConstituentID      DisplayName                        ArtistBio  \\\n",
       "0                  1   Robert Arneson              American, 1930–1992   \n",
       "1                  2   Doroteo Arnaiz               Spanish, born 1936   \n",
       "2                  3      Bill Arnold              American, born 1941   \n",
       "3                  4  Charles Arnoldi              American, born 1946   \n",
       "4                  5      Per Arnoldi                Danish, born 1941   \n",
       "...              ...              ...                              ...   \n",
       "15231         132538       Noah Davis              American, 1983–2015   \n",
       "15232         132545         Ann Tyng  American, born China, 1920–2011   \n",
       "15233         132719     Dalton Paula             Brazilian, born 1982   \n",
       "15234         132734    Hans Behrendt                German, 1889–1942   \n",
       "15235         132735     Yuli Karasik               Russian, 1923–2005   \n",
       "\n",
       "      Nationality  Gender  BeginDate  EndDate  Wiki QID         ULAN  \n",
       "0        American    Male       1930     1992       NaN          NaN  \n",
       "1         Spanish    Male       1936        0       NaN          NaN  \n",
       "2        American    Male       1941        0       NaN          NaN  \n",
       "3        American    Male       1946        0  Q1063584  500027998.0  \n",
       "4          Danish    Male       1941        0       NaN          NaN  \n",
       "...           ...     ...        ...      ...       ...          ...  \n",
       "15231    American    Male       1983     2015       NaN          NaN  \n",
       "15232    American  Female       1920     2011       NaN          NaN  \n",
       "15233   Brazilian     NaN       1982        0       NaN          NaN  \n",
       "15234      German    Male       1889     1942       NaN          NaN  \n",
       "15235     Russian    Male       1923     2005       NaN          NaN  \n",
       "\n",
       "[15236 rows x 9 columns]"
      ]
     },
     "execution_count": 2,
     "metadata": {},
     "output_type": "execute_result"
    }
   ],
   "source": [
    "#Then read the CSV file to get a better picture of the data:\n",
    "\n",
    "artists = pd.read_csv(\"https://media.githubusercontent.com/media/MuseumofModernArt/collection/master/Artists.csv\")\n",
    "artists"
   ]
  },
  {
   "cell_type": "code",
   "execution_count": 3,
   "metadata": {},
   "outputs": [
    {
     "data": {
      "text/html": [
       "<div>\n",
       "<style scoped>\n",
       "    .dataframe tbody tr th:only-of-type {\n",
       "        vertical-align: middle;\n",
       "    }\n",
       "\n",
       "    .dataframe tbody tr th {\n",
       "        vertical-align: top;\n",
       "    }\n",
       "\n",
       "    .dataframe thead th {\n",
       "        text-align: right;\n",
       "    }\n",
       "</style>\n",
       "<table border=\"1\" class=\"dataframe\">\n",
       "  <thead>\n",
       "    <tr style=\"text-align: right;\">\n",
       "      <th></th>\n",
       "      <th>ConstituentID</th>\n",
       "      <th>DisplayName</th>\n",
       "      <th>ArtistBio</th>\n",
       "      <th>Nationality</th>\n",
       "      <th>Gender</th>\n",
       "      <th>BeginDate</th>\n",
       "      <th>EndDate</th>\n",
       "    </tr>\n",
       "  </thead>\n",
       "  <tbody>\n",
       "    <tr>\n",
       "      <th>0</th>\n",
       "      <td>1</td>\n",
       "      <td>Robert Arneson</td>\n",
       "      <td>American, 1930–1992</td>\n",
       "      <td>American</td>\n",
       "      <td>Male</td>\n",
       "      <td>1930</td>\n",
       "      <td>1992</td>\n",
       "    </tr>\n",
       "    <tr>\n",
       "      <th>1</th>\n",
       "      <td>2</td>\n",
       "      <td>Doroteo Arnaiz</td>\n",
       "      <td>Spanish, born 1936</td>\n",
       "      <td>Spanish</td>\n",
       "      <td>Male</td>\n",
       "      <td>1936</td>\n",
       "      <td>0</td>\n",
       "    </tr>\n",
       "    <tr>\n",
       "      <th>2</th>\n",
       "      <td>3</td>\n",
       "      <td>Bill Arnold</td>\n",
       "      <td>American, born 1941</td>\n",
       "      <td>American</td>\n",
       "      <td>Male</td>\n",
       "      <td>1941</td>\n",
       "      <td>0</td>\n",
       "    </tr>\n",
       "    <tr>\n",
       "      <th>3</th>\n",
       "      <td>4</td>\n",
       "      <td>Charles Arnoldi</td>\n",
       "      <td>American, born 1946</td>\n",
       "      <td>American</td>\n",
       "      <td>Male</td>\n",
       "      <td>1946</td>\n",
       "      <td>0</td>\n",
       "    </tr>\n",
       "    <tr>\n",
       "      <th>4</th>\n",
       "      <td>5</td>\n",
       "      <td>Per Arnoldi</td>\n",
       "      <td>Danish, born 1941</td>\n",
       "      <td>Danish</td>\n",
       "      <td>Male</td>\n",
       "      <td>1941</td>\n",
       "      <td>0</td>\n",
       "    </tr>\n",
       "    <tr>\n",
       "      <th>...</th>\n",
       "      <td>...</td>\n",
       "      <td>...</td>\n",
       "      <td>...</td>\n",
       "      <td>...</td>\n",
       "      <td>...</td>\n",
       "      <td>...</td>\n",
       "      <td>...</td>\n",
       "    </tr>\n",
       "    <tr>\n",
       "      <th>15231</th>\n",
       "      <td>132538</td>\n",
       "      <td>Noah Davis</td>\n",
       "      <td>American, 1983–2015</td>\n",
       "      <td>American</td>\n",
       "      <td>Male</td>\n",
       "      <td>1983</td>\n",
       "      <td>2015</td>\n",
       "    </tr>\n",
       "    <tr>\n",
       "      <th>15232</th>\n",
       "      <td>132545</td>\n",
       "      <td>Ann Tyng</td>\n",
       "      <td>American, born China, 1920–2011</td>\n",
       "      <td>American</td>\n",
       "      <td>Female</td>\n",
       "      <td>1920</td>\n",
       "      <td>2011</td>\n",
       "    </tr>\n",
       "    <tr>\n",
       "      <th>15233</th>\n",
       "      <td>132719</td>\n",
       "      <td>Dalton Paula</td>\n",
       "      <td>Brazilian, born 1982</td>\n",
       "      <td>Brazilian</td>\n",
       "      <td>NaN</td>\n",
       "      <td>1982</td>\n",
       "      <td>0</td>\n",
       "    </tr>\n",
       "    <tr>\n",
       "      <th>15234</th>\n",
       "      <td>132734</td>\n",
       "      <td>Hans Behrendt</td>\n",
       "      <td>German, 1889–1942</td>\n",
       "      <td>German</td>\n",
       "      <td>Male</td>\n",
       "      <td>1889</td>\n",
       "      <td>1942</td>\n",
       "    </tr>\n",
       "    <tr>\n",
       "      <th>15235</th>\n",
       "      <td>132735</td>\n",
       "      <td>Yuli Karasik</td>\n",
       "      <td>Russian, 1923–2005</td>\n",
       "      <td>Russian</td>\n",
       "      <td>Male</td>\n",
       "      <td>1923</td>\n",
       "      <td>2005</td>\n",
       "    </tr>\n",
       "  </tbody>\n",
       "</table>\n",
       "<p>15236 rows × 7 columns</p>\n",
       "</div>"
      ],
      "text/plain": [
       "       ConstituentID      DisplayName                        ArtistBio  \\\n",
       "0                  1   Robert Arneson              American, 1930–1992   \n",
       "1                  2   Doroteo Arnaiz               Spanish, born 1936   \n",
       "2                  3      Bill Arnold              American, born 1941   \n",
       "3                  4  Charles Arnoldi              American, born 1946   \n",
       "4                  5      Per Arnoldi                Danish, born 1941   \n",
       "...              ...              ...                              ...   \n",
       "15231         132538       Noah Davis              American, 1983–2015   \n",
       "15232         132545         Ann Tyng  American, born China, 1920–2011   \n",
       "15233         132719     Dalton Paula             Brazilian, born 1982   \n",
       "15234         132734    Hans Behrendt                German, 1889–1942   \n",
       "15235         132735     Yuli Karasik               Russian, 1923–2005   \n",
       "\n",
       "      Nationality  Gender  BeginDate  EndDate  \n",
       "0        American    Male       1930     1992  \n",
       "1         Spanish    Male       1936        0  \n",
       "2        American    Male       1941        0  \n",
       "3        American    Male       1946        0  \n",
       "4          Danish    Male       1941        0  \n",
       "...           ...     ...        ...      ...  \n",
       "15231    American    Male       1983     2015  \n",
       "15232    American  Female       1920     2011  \n",
       "15233   Brazilian     NaN       1982        0  \n",
       "15234      German    Male       1889     1942  \n",
       "15235     Russian    Male       1923     2005  \n",
       "\n",
       "[15236 rows x 7 columns]"
      ]
     },
     "execution_count": 3,
     "metadata": {},
     "output_type": "execute_result"
    }
   ],
   "source": [
    "#Drop the following columns that are not necessary for my current analysis:\n",
    "\n",
    "artists.drop(columns = ['Wiki QID', 'ULAN'], inplace = True)\n",
    "artists"
   ]
  },
  {
   "cell_type": "code",
   "execution_count": 4,
   "metadata": {},
   "outputs": [
    {
     "name": "stdout",
     "output_type": "stream",
     "text": [
      "artists missing data:\n",
      "ConstituentID       0\n",
      "DisplayName         0\n",
      "ArtistBio        2203\n",
      "Nationality      2447\n",
      "Gender           3131\n",
      "BeginDate           0\n",
      "EndDate             0\n",
      "dtype: int64\n"
     ]
    }
   ],
   "source": [
    "# Determine if there are any missing data:\n",
    "\n",
    "print('artists missing data:')\n",
    "print(artists.isnull().sum())"
   ]
  },
  {
   "cell_type": "code",
   "execution_count": 5,
   "metadata": {},
   "outputs": [],
   "source": [
    "#Fill in missing data:\n",
    "\n",
    "artists['ArtistBio'].fillna('N/A', inplace = True) \n",
    "artists['Nationality'].fillna('N/A', inplace = True) \n",
    "artists['Gender'].fillna('N/A', inplace = True) "
   ]
  },
  {
   "cell_type": "code",
   "execution_count": 6,
   "metadata": {},
   "outputs": [
    {
     "data": {
      "text/plain": [
       "ConstituentID     int64\n",
       "DisplayName      object\n",
       "ArtistBio        object\n",
       "Nationality      object\n",
       "Gender           object\n",
       "BeginDate         int64\n",
       "EndDate           int64\n",
       "dtype: object"
      ]
     },
     "execution_count": 6,
     "metadata": {},
     "output_type": "execute_result"
    }
   ],
   "source": [
    "#Check data types:\n",
    "\n",
    "df = artists\n",
    "df.dtypes"
   ]
  },
  {
   "cell_type": "code",
   "execution_count": 7,
   "metadata": {},
   "outputs": [],
   "source": [
    "#See that several columns are objects and want to change them to strings.\n",
    "\n",
    "df['Nationality'] = df['Nationality'].astype(str)\n",
    "df['Gender'] = df['Gender'].astype(str)\n",
    "df['ArtistBio'] = df['ArtistBio'].astype(str)"
   ]
  },
  {
   "cell_type": "code",
   "execution_count": 8,
   "metadata": {},
   "outputs": [
    {
     "data": {
      "text/plain": [
       "15236"
      ]
     },
     "execution_count": 8,
     "metadata": {},
     "output_type": "execute_result"
    }
   ],
   "source": [
    "#Confirm that the number of entries are consistent with what MoMA's Github states. We both have 15,236 records.\n",
    "\n",
    "len(df)"
   ]
  },
  {
   "cell_type": "code",
   "execution_count": 9,
   "metadata": {},
   "outputs": [
    {
     "data": {
      "text/plain": [
       "array(['Female', 'Male', 'N/A', 'Non-Binary', 'female', 'male'],\n",
       "      dtype=object)"
      ]
     },
     "execution_count": 9,
     "metadata": {},
     "output_type": "execute_result"
    }
   ],
   "source": [
    "#Get all the unique values in 'Gender' to help in cleaning the data and determining any inconsistent entries.\n",
    "#Then sort them to see the complete list.\n",
    "\n",
    "gender = df['Gender'].unique()\n",
    "gender.sort()\n",
    "gender"
   ]
  },
  {
   "cell_type": "code",
   "execution_count": 10,
   "metadata": {},
   "outputs": [
    {
     "data": {
      "text/plain": [
       "array(['Male', 'Female', 'N/A', 'Non-Binary'], dtype=object)"
      ]
     },
     "execution_count": 10,
     "metadata": {},
     "output_type": "execute_result"
    }
   ],
   "source": [
    "#The entries for male and female are inconsistent, so replace to make it consistent.\n",
    "\n",
    "df[\"Gender\"].replace({\"male\": \"Male\", \"female\": \"Female\"}, inplace=True)\n",
    "df['Gender'].unique()"
   ]
  },
  {
   "cell_type": "code",
   "execution_count": 11,
   "metadata": {},
   "outputs": [
    {
     "data": {
      "text/plain": [
       "array(['Afghan', 'Albanian', 'Algerian', 'American', 'Argentine',\n",
       "       'Australian', 'Austrian', 'Azerbaijani', 'Bahamian', 'Bangladeshi',\n",
       "       'Belgian', 'Beninese', 'Bolivian', 'Bosnian', 'Brazilian',\n",
       "       'British', 'Bulgarian', 'Burkinabe', 'Cambodian', 'Cameroonian',\n",
       "       'Canadian', 'Canadian Inuit', 'Catalan', 'Chilean', 'Chinese',\n",
       "       'Colombian', 'Congolese', 'Coptic', 'Costa Rican', 'Croatian',\n",
       "       'Cuban', 'Cypriot', 'Czech', 'Czechoslovakian', 'Danish', 'Dutch',\n",
       "       'Ecuadorian', 'Egyptian', 'Emirati', 'Estonian', 'Ethiopian',\n",
       "       'Filipino', 'Finnish', 'French', 'Georgian', 'German', 'Ghanaian',\n",
       "       'Greek', 'Guatemalan', 'Guyanese', 'Haitian', 'Hungarian',\n",
       "       'Icelandic', 'Indian', 'Iranian', 'Irish', 'Israeli', 'Italian',\n",
       "       'Ivorian', 'Japanese', 'Kenyan', 'Korean', 'Kuwaiti',\n",
       "       'Kyrgyzstani', 'Latvian', 'Lebanese', 'Lithuanian',\n",
       "       'Luxembourgish', 'Macedonian', 'Malaysian', 'Malian', 'Mexican',\n",
       "       'Moroccan', 'N/A', 'Namibian', 'Nationality unknown',\n",
       "       'Native American', 'New Zealander', 'Nicaraguan', 'Nigerian',\n",
       "       'Norwegian', 'Pakistani', 'Palestinian', 'Panamanian',\n",
       "       'Paraguayan', 'Persian', 'Peruvian', 'Polish', 'Portuguese',\n",
       "       'Puerto Rican', 'Romanian', 'Russian', 'Sahrawi', 'Salvadoran',\n",
       "       'Scottish', 'Senegalese', 'Serbian', 'Sierra Leonean',\n",
       "       'Singaporean', 'Slovak', 'Slovenian', 'South African', 'Spanish',\n",
       "       'Sudanese', 'Swedish', 'Swiss', 'Taiwanese', 'Tanzanian', 'Thai',\n",
       "       'Tunisian', 'Turkish', 'Ugandan', 'Ukrainian', 'Uruguayan',\n",
       "       'Venezuelan', 'Vietnamese', 'Welsh', 'Yugoslav', 'Zimbabwean'],\n",
       "      dtype=object)"
      ]
     },
     "execution_count": 11,
     "metadata": {},
     "output_type": "execute_result"
    }
   ],
   "source": [
    "#Same process for 'Nationality':\n",
    "\n",
    "nationality = df['Nationality'].unique()\n",
    "nationality.sort()\n",
    "nationality"
   ]
  },
  {
   "cell_type": "code",
   "execution_count": 12,
   "metadata": {},
   "outputs": [
    {
     "data": {
      "text/plain": [
       "array(['American', 'Spanish', 'Danish', 'Italian', 'French', 'Estonian',\n",
       "       'Mexican', 'Swedish', 'N/A', 'Israeli', 'British', 'Finnish',\n",
       "       'Polish', 'Palestinian', 'Japanese', 'Guatemalan', 'Colombian',\n",
       "       'Romanian', 'Russian', 'German', 'Argentine', 'Kuwaiti', 'Belgian',\n",
       "       'Dutch', 'Norwegian', 'Chilean', 'Swiss', 'Costa Rican',\n",
       "       'Czechoslovakian', 'Brazilian', 'Austrian', 'Canadian',\n",
       "       'Australian', 'Ukrainian', 'Hungarian', 'Haitian', 'Congolese',\n",
       "       'Bolivian', 'Cuban', 'Yugoslav', 'Portuguese', 'Indian',\n",
       "       'Peruvian', 'Icelandic', 'Irish', 'Guyanese', 'Uruguayan',\n",
       "       'Slovak', 'Croatian', 'Greek', 'Chinese', 'Venezuelan', 'Turkish',\n",
       "       'Panamanian', 'Algerian', 'Ecuadorian', 'South African', 'Iranian',\n",
       "       'Korean', 'Canadian Inuit', 'Paraguayan', 'Luxembourgish',\n",
       "       'Nicaraguan', 'Zimbabwean', 'Moroccan', 'Slovenian', 'Tanzanian',\n",
       "       'Bulgarian', 'Tunisian', 'Sudanese', 'Taiwanese', 'Ethiopian',\n",
       "       'Scottish', 'Latvian', 'Senegalese', 'Thai', 'New Zealander',\n",
       "       'Lithuanian', 'Pakistani', 'Bahamian', 'Bosnian', 'Malian',\n",
       "       'Georgian', 'Egyptian', 'Kenyan', 'Emirati', 'Nigerian', 'Cypriot',\n",
       "       'Albanian', 'Azerbaijani', 'Ivorian', 'Malaysian', 'Serbian',\n",
       "       'Singaporean', 'Namibian', 'Cambodian', 'Ghanaian', 'Afghan',\n",
       "       'Native American', 'Lebanese', 'Kyrgyzstani', 'Vietnamese',\n",
       "       'Ugandan', 'Cameroonian', 'Welsh', 'Macedonian', 'Puerto Rican',\n",
       "       'Catalan', 'Filipino', 'Sahrawi', 'Bangladeshi', 'Coptic',\n",
       "       'Persian', 'Burkinabe', 'Beninese', 'Sierra Leonean', 'Salvadoran'],\n",
       "      dtype=object)"
      ]
     },
     "execution_count": 12,
     "metadata": {},
     "output_type": "execute_result"
    }
   ],
   "source": [
    "#See some inconsistent data entries and replace the following:\n",
    "\n",
    "df[\"Nationality\"].replace({\"Czech\": \"Czechoslovakian\", \"Nationality unknown\": \"N/A\"}, inplace=True)\n",
    "df['Nationality'].unique()"
   ]
  },
  {
   "cell_type": "code",
   "execution_count": 13,
   "metadata": {},
   "outputs": [
    {
     "data": {
      "text/html": [
       "<div>\n",
       "<style scoped>\n",
       "    .dataframe tbody tr th:only-of-type {\n",
       "        vertical-align: middle;\n",
       "    }\n",
       "\n",
       "    .dataframe tbody tr th {\n",
       "        vertical-align: top;\n",
       "    }\n",
       "\n",
       "    .dataframe thead th {\n",
       "        text-align: right;\n",
       "    }\n",
       "</style>\n",
       "<table border=\"1\" class=\"dataframe\">\n",
       "  <thead>\n",
       "    <tr style=\"text-align: right;\">\n",
       "      <th></th>\n",
       "      <th>ConstituentID</th>\n",
       "      <th>DisplayName</th>\n",
       "      <th>ArtistBio</th>\n",
       "      <th>Nationality</th>\n",
       "      <th>Gender</th>\n",
       "      <th>Birth</th>\n",
       "      <th>Death</th>\n",
       "    </tr>\n",
       "  </thead>\n",
       "  <tbody>\n",
       "    <tr>\n",
       "      <th>0</th>\n",
       "      <td>1</td>\n",
       "      <td>Robert Arneson</td>\n",
       "      <td>American, 1930–1992</td>\n",
       "      <td>American</td>\n",
       "      <td>Male</td>\n",
       "      <td>1930</td>\n",
       "      <td>1992</td>\n",
       "    </tr>\n",
       "    <tr>\n",
       "      <th>1</th>\n",
       "      <td>2</td>\n",
       "      <td>Doroteo Arnaiz</td>\n",
       "      <td>Spanish, born 1936</td>\n",
       "      <td>Spanish</td>\n",
       "      <td>Male</td>\n",
       "      <td>1936</td>\n",
       "      <td>0</td>\n",
       "    </tr>\n",
       "    <tr>\n",
       "      <th>2</th>\n",
       "      <td>3</td>\n",
       "      <td>Bill Arnold</td>\n",
       "      <td>American, born 1941</td>\n",
       "      <td>American</td>\n",
       "      <td>Male</td>\n",
       "      <td>1941</td>\n",
       "      <td>0</td>\n",
       "    </tr>\n",
       "    <tr>\n",
       "      <th>3</th>\n",
       "      <td>4</td>\n",
       "      <td>Charles Arnoldi</td>\n",
       "      <td>American, born 1946</td>\n",
       "      <td>American</td>\n",
       "      <td>Male</td>\n",
       "      <td>1946</td>\n",
       "      <td>0</td>\n",
       "    </tr>\n",
       "    <tr>\n",
       "      <th>4</th>\n",
       "      <td>5</td>\n",
       "      <td>Per Arnoldi</td>\n",
       "      <td>Danish, born 1941</td>\n",
       "      <td>Danish</td>\n",
       "      <td>Male</td>\n",
       "      <td>1941</td>\n",
       "      <td>0</td>\n",
       "    </tr>\n",
       "    <tr>\n",
       "      <th>...</th>\n",
       "      <td>...</td>\n",
       "      <td>...</td>\n",
       "      <td>...</td>\n",
       "      <td>...</td>\n",
       "      <td>...</td>\n",
       "      <td>...</td>\n",
       "      <td>...</td>\n",
       "    </tr>\n",
       "    <tr>\n",
       "      <th>15231</th>\n",
       "      <td>132538</td>\n",
       "      <td>Noah Davis</td>\n",
       "      <td>American, 1983–2015</td>\n",
       "      <td>American</td>\n",
       "      <td>Male</td>\n",
       "      <td>1983</td>\n",
       "      <td>2015</td>\n",
       "    </tr>\n",
       "    <tr>\n",
       "      <th>15232</th>\n",
       "      <td>132545</td>\n",
       "      <td>Ann Tyng</td>\n",
       "      <td>American, born China, 1920–2011</td>\n",
       "      <td>American</td>\n",
       "      <td>Female</td>\n",
       "      <td>1920</td>\n",
       "      <td>2011</td>\n",
       "    </tr>\n",
       "    <tr>\n",
       "      <th>15233</th>\n",
       "      <td>132719</td>\n",
       "      <td>Dalton Paula</td>\n",
       "      <td>Brazilian, born 1982</td>\n",
       "      <td>Brazilian</td>\n",
       "      <td>N/A</td>\n",
       "      <td>1982</td>\n",
       "      <td>0</td>\n",
       "    </tr>\n",
       "    <tr>\n",
       "      <th>15234</th>\n",
       "      <td>132734</td>\n",
       "      <td>Hans Behrendt</td>\n",
       "      <td>German, 1889–1942</td>\n",
       "      <td>German</td>\n",
       "      <td>Male</td>\n",
       "      <td>1889</td>\n",
       "      <td>1942</td>\n",
       "    </tr>\n",
       "    <tr>\n",
       "      <th>15235</th>\n",
       "      <td>132735</td>\n",
       "      <td>Yuli Karasik</td>\n",
       "      <td>Russian, 1923–2005</td>\n",
       "      <td>Russian</td>\n",
       "      <td>Male</td>\n",
       "      <td>1923</td>\n",
       "      <td>2005</td>\n",
       "    </tr>\n",
       "  </tbody>\n",
       "</table>\n",
       "<p>15236 rows × 7 columns</p>\n",
       "</div>"
      ],
      "text/plain": [
       "       ConstituentID      DisplayName                        ArtistBio  \\\n",
       "0                  1   Robert Arneson              American, 1930–1992   \n",
       "1                  2   Doroteo Arnaiz               Spanish, born 1936   \n",
       "2                  3      Bill Arnold              American, born 1941   \n",
       "3                  4  Charles Arnoldi              American, born 1946   \n",
       "4                  5      Per Arnoldi                Danish, born 1941   \n",
       "...              ...              ...                              ...   \n",
       "15231         132538       Noah Davis              American, 1983–2015   \n",
       "15232         132545         Ann Tyng  American, born China, 1920–2011   \n",
       "15233         132719     Dalton Paula             Brazilian, born 1982   \n",
       "15234         132734    Hans Behrendt                German, 1889–1942   \n",
       "15235         132735     Yuli Karasik               Russian, 1923–2005   \n",
       "\n",
       "      Nationality  Gender  Birth  Death  \n",
       "0        American    Male   1930   1992  \n",
       "1         Spanish    Male   1936      0  \n",
       "2        American    Male   1941      0  \n",
       "3        American    Male   1946      0  \n",
       "4          Danish    Male   1941      0  \n",
       "...           ...     ...    ...    ...  \n",
       "15231    American    Male   1983   2015  \n",
       "15232    American  Female   1920   2011  \n",
       "15233   Brazilian     N/A   1982      0  \n",
       "15234      German    Male   1889   1942  \n",
       "15235     Russian    Male   1923   2005  \n",
       "\n",
       "[15236 rows x 7 columns]"
      ]
     },
     "execution_count": 13,
     "metadata": {},
     "output_type": "execute_result"
    }
   ],
   "source": [
    "#Rename 'BeginDate' and 'EndDate' columns to indicate birth and death instead and see finalized dataset:\n",
    "\n",
    "df.rename({'BeginDate': 'Birth', 'EndDate': 'Death'}, axis=1, inplace=True)\n",
    "df"
   ]
  },
  {
   "cell_type": "markdown",
   "metadata": {},
   "source": [
    "# Analysis & Visualizations\n"
   ]
  },
  {
   "cell_type": "code",
   "execution_count": 21,
   "metadata": {},
   "outputs": [
    {
     "data": {
      "text/plain": [
       "(array([0, 1, 2, 3]), <a list of 4 Text major ticklabel objects>)"
      ]
     },
     "execution_count": 21,
     "metadata": {},
     "output_type": "execute_result"
    },
    {
     "data": {
      "image/png": "[encoded data removed]",
      "text/plain": [
       "<Figure size 432x288 with 1 Axes>"
      ]
     },
     "metadata": {
      "needs_background": "light"
     },
     "output_type": "display_data"
    }
   ],
   "source": [
    "sns.countplot(x='Gender', data=df, order = df['Gender'].value_counts().index) \n",
    "plt.xticks(rotation=-90)"
   ]
  },
  {
   "cell_type": "markdown",
   "metadata": {},
   "source": [
    "We can see that males are the gender that is most represented. We can also see that a significant number of artists don't have a gender listed, suggesting that it is unknown or missing, and that there is a group that identifies as non-binary."
   ]
  },
  {
   "cell_type": "code",
   "execution_count": 15,
   "metadata": {},
   "outputs": [
    {
     "data": {
      "text/plain": [
       "Male          9802\n",
       "N/A           3131\n",
       "Female        2301\n",
       "Non-Binary       2\n",
       "Name: Gender, dtype: int64"
      ]
     },
     "execution_count": 15,
     "metadata": {},
     "output_type": "execute_result"
    }
   ],
   "source": [
    "df['Gender'].value_counts()"
   ]
  },
  {
   "cell_type": "markdown",
   "metadata": {},
   "source": [
    "Listing the exact numbers associated with each gender."
   ]
  },
  {
   "cell_type": "code",
   "execution_count": 16,
   "metadata": {},
   "outputs": [
    {
     "data": {
      "text/plain": [
       "117"
      ]
     },
     "execution_count": 16,
     "metadata": {},
     "output_type": "execute_result"
    }
   ],
   "source": [
    "df['Nationality'].nunique()"
   ]
  },
  {
   "cell_type": "markdown",
   "metadata": {},
   "source": [
    "Obtaining the number of nationalities represented at MoMA."
   ]
  },
  {
   "cell_type": "code",
   "execution_count": 17,
   "metadata": {},
   "outputs": [
    {
     "data": {
      "text/plain": [
       "<matplotlib.axes._subplots.AxesSubplot at 0x7fa6eb955e90>"
      ]
     },
     "execution_count": 17,
     "metadata": {},
     "output_type": "execute_result"
    },
    {
     "data": {
      "image/png": "[encoded data removed]",
      "text/plain": [
       "<Figure size 432x288 with 1 Axes>"
      ]
     },
     "metadata": {
      "needs_background": "light"
     },
     "output_type": "display_data"
    }
   ],
   "source": [
    "df['Nationality'].value_counts()[:10].plot(kind='barh')"
   ]
  },
  {
   "cell_type": "markdown",
   "metadata": {},
   "source": [
    "Americans are by far the most represented group when looking at the top ten nationalities by count. The next most represented group is 'N/A,'  indicating that this information is uknown or missing. Overall, the top ten nationalities most represented at MoMA outside of America come from Europe with the exception of the Japanese, the only non-European nationality."
   ]
  },
  {
   "cell_type": "code",
   "execution_count": 18,
   "metadata": {},
   "outputs": [
    {
     "data": {
      "text/plain": [
       "American    5214\n",
       "N/A         2627\n",
       "German       968\n",
       "British      856\n",
       "French       850\n",
       "Italian      539\n",
       "Japanese     509\n",
       "Swiss        294\n",
       "Dutch        277\n",
       "Russian      267\n",
       "Name: Nationality, dtype: int64"
      ]
     },
     "execution_count": 18,
     "metadata": {},
     "output_type": "execute_result"
    }
   ],
   "source": [
    "df['Nationality'].value_counts()[:10]"
   ]
  },
  {
   "cell_type": "markdown",
   "metadata": {},
   "source": [
    "Listing the numbers associated with each nationality."
   ]
  },
  {
   "cell_type": "code",
   "execution_count": 19,
   "metadata": {},
   "outputs": [
    {
     "data": {
      "text/plain": [
       "<matplotlib.axes._subplots.AxesSubplot at 0x7fa6ebb69050>"
      ]
     },
     "execution_count": 19,
     "metadata": {},
     "output_type": "execute_result"
    },
    {
     "data": {
      "image/png": "[encoded data removed]",
      "text/plain": [
       "<Figure size 432x288 with 1 Axes>"
      ]
     },
     "metadata": {
      "needs_background": "light"
     },
     "output_type": "display_data"
    }
   ],
   "source": [
    "df['Birth'].value_counts()[:10].plot(kind='barh')"
   ]
  },
  {
   "cell_type": "markdown",
   "metadata": {},
   "source": [
    "I was curious to see if any patterns or trends existed in the artists' birth year and that perhaps certain years, or time periods, produced more artists. From the chart listing the top ten birth years by count, the majority of artist birth years are actually listed as '0,' indicating that many artists' birth years are unknown or missing. "
   ]
  },
  {
   "cell_type": "code",
   "execution_count": 20,
   "metadata": {},
   "outputs": [
    {
     "data": {
      "text/plain": [
       "0       3672\n",
       "1942     188\n",
       "1938     180\n",
       "1943     179\n",
       "1937     170\n",
       "1946     168\n",
       "1941     167\n",
       "1940     159\n",
       "1944     158\n",
       "1947     153\n",
       "Name: Birth, dtype: int64"
      ]
     },
     "execution_count": 20,
     "metadata": {},
     "output_type": "execute_result"
    }
   ],
   "source": [
    "df['Birth'].value_counts()[:10]"
   ]
  },
  {
   "cell_type": "markdown",
   "metadata": {},
   "source": [
    "By obtaining the counts of the top ten years represented, we can see that 1942 is the most frequently occurring birth year after '0,' or unknown. It is also interesting to note that the years most represented range from the 1930's-1940's."
   ]
  },
  {
   "cell_type": "markdown",
   "metadata": {},
   "source": [
    "# Findings\n",
    "\n",
    "From this exploratory analysis of the MoMA artist dataset, the kind of artist most represented at the museum is an American male who was born somewhere between the 1930's-1940's. However, one should note that there are many artists in the dataset who either have missing or unknown data about themselves and, therefore, may not have necessarily fit into this representaiton."
   ]
  },
  {
   "cell_type": "code",
   "execution_count": null,
   "metadata": {},
   "outputs": [],
   "source": []
  }
 ],
 "metadata": {
  "kernelspec": {
   "display_name": "pratt_ml",
   "language": "python",
   "name": "pratt_ml"
  },
  "language_info": {
   "codemirror_mode": {
    "name": "ipython",
    "version": 3
   },
   "file_extension": ".py",
   "mimetype": "text/x-python",
   "name": "python",
   "nbconvert_exporter": "python",
   "pygments_lexer": "ipython3",
   "version": "3.7.7"
  }
 },
 "nbformat": 4,
 "nbformat_minor": 4
}
