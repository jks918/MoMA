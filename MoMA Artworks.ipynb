{
 "cells": [
  {
   "cell_type": "markdown",
   "metadata": {},
   "source": [
    "# MoMA Artworks: Exploratory Data Analysis & Visualization\n",
    "\n",
    "This notebook details the steps taken to conduct an exploratory analysis on the artworks dataset provided by the \n",
    "Museum of Modern Art (MoMA). This dataset includes artworks that have been accessioned into MoMA's collection and cataloged in its database. This exploratory analysis attempts to uncover what kinds of artworks are represented at MoMA."
   ]
  },
  {
   "cell_type": "code",
   "execution_count": 23,
   "metadata": {},
   "outputs": [],
   "source": [
    "#First begin by importing the following libraries to conduct the analysis and create visualizations:\n",
    "\n",
    "import numpy as np\n",
    "import pandas as pd\n",
    "import matplotlib.pyplot as plt\n",
    "import seaborn as sns"
   ]
  },
  {
   "cell_type": "code",
   "execution_count": 24,
   "metadata": {},
   "outputs": [
    {
     "data": {
      "text/html": [
       "<div>\n",
       "<style scoped>\n",
       "    .dataframe tbody tr th:only-of-type {\n",
       "        vertical-align: middle;\n",
       "    }\n",
       "\n",
       "    .dataframe tbody tr th {\n",
       "        vertical-align: top;\n",
       "    }\n",
       "\n",
       "    .dataframe thead th {\n",
       "        text-align: right;\n",
       "    }\n",
       "</style>\n",
       "<table border=\"1\" class=\"dataframe\">\n",
       "  <thead>\n",
       "    <tr style=\"text-align: right;\">\n",
       "      <th></th>\n",
       "      <th>Title</th>\n",
       "      <th>Artist</th>\n",
       "      <th>ConstituentID</th>\n",
       "      <th>ArtistBio</th>\n",
       "      <th>Nationality</th>\n",
       "      <th>BeginDate</th>\n",
       "      <th>EndDate</th>\n",
       "      <th>Gender</th>\n",
       "      <th>Date</th>\n",
       "      <th>Medium</th>\n",
       "      <th>...</th>\n",
       "      <th>ThumbnailURL</th>\n",
       "      <th>Circumference (cm)</th>\n",
       "      <th>Depth (cm)</th>\n",
       "      <th>Diameter (cm)</th>\n",
       "      <th>Height (cm)</th>\n",
       "      <th>Length (cm)</th>\n",
       "      <th>Weight (kg)</th>\n",
       "      <th>Width (cm)</th>\n",
       "      <th>Seat Height (cm)</th>\n",
       "      <th>Duration (sec.)</th>\n",
       "    </tr>\n",
       "  </thead>\n",
       "  <tbody>\n",
       "    <tr>\n",
       "      <th>0</th>\n",
       "      <td>Ferdinandsbrücke Project, Vienna, Austria (Ele...</td>\n",
       "      <td>Otto Wagner</td>\n",
       "      <td>6210</td>\n",
       "      <td>(Austrian, 1841–1918)</td>\n",
       "      <td>(Austrian)</td>\n",
       "      <td>(1841)</td>\n",
       "      <td>(1918)</td>\n",
       "      <td>(Male)</td>\n",
       "      <td>1896</td>\n",
       "      <td>Ink and cut-and-pasted painted pages on paper</td>\n",
       "      <td>...</td>\n",
       "      <td>http://www.moma.org/media/W1siZiIsIjU5NDA1Il0s...</td>\n",
       "      <td>NaN</td>\n",
       "      <td>NaN</td>\n",
       "      <td>NaN</td>\n",
       "      <td>48.6000</td>\n",
       "      <td>NaN</td>\n",
       "      <td>NaN</td>\n",
       "      <td>168.9000</td>\n",
       "      <td>NaN</td>\n",
       "      <td>NaN</td>\n",
       "    </tr>\n",
       "    <tr>\n",
       "      <th>1</th>\n",
       "      <td>City of Music, National Superior Conservatory ...</td>\n",
       "      <td>Christian de Portzamparc</td>\n",
       "      <td>7470</td>\n",
       "      <td>(French, born 1944)</td>\n",
       "      <td>(French)</td>\n",
       "      <td>(1944)</td>\n",
       "      <td>(0)</td>\n",
       "      <td>(Male)</td>\n",
       "      <td>1987</td>\n",
       "      <td>Paint and colored pencil on print</td>\n",
       "      <td>...</td>\n",
       "      <td>http://www.moma.org/media/W1siZiIsIjk3Il0sWyJw...</td>\n",
       "      <td>NaN</td>\n",
       "      <td>NaN</td>\n",
       "      <td>NaN</td>\n",
       "      <td>40.6401</td>\n",
       "      <td>NaN</td>\n",
       "      <td>NaN</td>\n",
       "      <td>29.8451</td>\n",
       "      <td>NaN</td>\n",
       "      <td>NaN</td>\n",
       "    </tr>\n",
       "    <tr>\n",
       "      <th>2</th>\n",
       "      <td>Villa near Vienna Project, Outside Vienna, Aus...</td>\n",
       "      <td>Emil Hoppe</td>\n",
       "      <td>7605</td>\n",
       "      <td>(Austrian, 1876–1957)</td>\n",
       "      <td>(Austrian)</td>\n",
       "      <td>(1876)</td>\n",
       "      <td>(1957)</td>\n",
       "      <td>(Male)</td>\n",
       "      <td>1903</td>\n",
       "      <td>Graphite, pen, color pencil, ink, and gouache ...</td>\n",
       "      <td>...</td>\n",
       "      <td>http://www.moma.org/media/W1siZiIsIjk4Il0sWyJw...</td>\n",
       "      <td>NaN</td>\n",
       "      <td>NaN</td>\n",
       "      <td>NaN</td>\n",
       "      <td>34.3000</td>\n",
       "      <td>NaN</td>\n",
       "      <td>NaN</td>\n",
       "      <td>31.8000</td>\n",
       "      <td>NaN</td>\n",
       "      <td>NaN</td>\n",
       "    </tr>\n",
       "    <tr>\n",
       "      <th>3</th>\n",
       "      <td>The Manhattan Transcripts Project, New York, N...</td>\n",
       "      <td>Bernard Tschumi</td>\n",
       "      <td>7056</td>\n",
       "      <td>(French and Swiss, born Switzerland 1944)</td>\n",
       "      <td>()</td>\n",
       "      <td>(1944)</td>\n",
       "      <td>(0)</td>\n",
       "      <td>(Male)</td>\n",
       "      <td>1980</td>\n",
       "      <td>Photographic reproduction with colored synthet...</td>\n",
       "      <td>...</td>\n",
       "      <td>http://www.moma.org/media/W1siZiIsIjEyNCJdLFsi...</td>\n",
       "      <td>NaN</td>\n",
       "      <td>NaN</td>\n",
       "      <td>NaN</td>\n",
       "      <td>50.8000</td>\n",
       "      <td>NaN</td>\n",
       "      <td>NaN</td>\n",
       "      <td>50.8000</td>\n",
       "      <td>NaN</td>\n",
       "      <td>NaN</td>\n",
       "    </tr>\n",
       "    <tr>\n",
       "      <th>4</th>\n",
       "      <td>Villa, project, outside Vienna, Austria, Exter...</td>\n",
       "      <td>Emil Hoppe</td>\n",
       "      <td>7605</td>\n",
       "      <td>(Austrian, 1876–1957)</td>\n",
       "      <td>(Austrian)</td>\n",
       "      <td>(1876)</td>\n",
       "      <td>(1957)</td>\n",
       "      <td>(Male)</td>\n",
       "      <td>1903</td>\n",
       "      <td>Graphite, color pencil, ink, and gouache on tr...</td>\n",
       "      <td>...</td>\n",
       "      <td>http://www.moma.org/media/W1siZiIsIjEyNiJdLFsi...</td>\n",
       "      <td>NaN</td>\n",
       "      <td>NaN</td>\n",
       "      <td>NaN</td>\n",
       "      <td>38.4000</td>\n",
       "      <td>NaN</td>\n",
       "      <td>NaN</td>\n",
       "      <td>19.1000</td>\n",
       "      <td>NaN</td>\n",
       "      <td>NaN</td>\n",
       "    </tr>\n",
       "    <tr>\n",
       "      <th>...</th>\n",
       "      <td>...</td>\n",
       "      <td>...</td>\n",
       "      <td>...</td>\n",
       "      <td>...</td>\n",
       "      <td>...</td>\n",
       "      <td>...</td>\n",
       "      <td>...</td>\n",
       "      <td>...</td>\n",
       "      <td>...</td>\n",
       "      <td>...</td>\n",
       "      <td>...</td>\n",
       "      <td>...</td>\n",
       "      <td>...</td>\n",
       "      <td>...</td>\n",
       "      <td>...</td>\n",
       "      <td>...</td>\n",
       "      <td>...</td>\n",
       "      <td>...</td>\n",
       "      <td>...</td>\n",
       "      <td>...</td>\n",
       "      <td>...</td>\n",
       "    </tr>\n",
       "    <tr>\n",
       "      <th>138213</th>\n",
       "      <td>Plate from Chad gadya (The Tale of a Goat)</td>\n",
       "      <td>El Lissitzky</td>\n",
       "      <td>3569</td>\n",
       "      <td>(Russian, 1890–1941)</td>\n",
       "      <td>(Russian)</td>\n",
       "      <td>(1890)</td>\n",
       "      <td>(1941)</td>\n",
       "      <td>(Male)</td>\n",
       "      <td>1919</td>\n",
       "      <td>One from an illustrated book with thirteen lit...</td>\n",
       "      <td>...</td>\n",
       "      <td>NaN</td>\n",
       "      <td>NaN</td>\n",
       "      <td>NaN</td>\n",
       "      <td>NaN</td>\n",
       "      <td>24.3000</td>\n",
       "      <td>NaN</td>\n",
       "      <td>NaN</td>\n",
       "      <td>20.3000</td>\n",
       "      <td>NaN</td>\n",
       "      <td>NaN</td>\n",
       "    </tr>\n",
       "    <tr>\n",
       "      <th>138214</th>\n",
       "      <td>Plate from Chad gadya (The Tale of a Goat)</td>\n",
       "      <td>El Lissitzky</td>\n",
       "      <td>3569</td>\n",
       "      <td>(Russian, 1890–1941)</td>\n",
       "      <td>(Russian)</td>\n",
       "      <td>(1890)</td>\n",
       "      <td>(1941)</td>\n",
       "      <td>(Male)</td>\n",
       "      <td>1919</td>\n",
       "      <td>One from an illustrated book with thirteen lit...</td>\n",
       "      <td>...</td>\n",
       "      <td>NaN</td>\n",
       "      <td>NaN</td>\n",
       "      <td>NaN</td>\n",
       "      <td>NaN</td>\n",
       "      <td>23.4000</td>\n",
       "      <td>NaN</td>\n",
       "      <td>NaN</td>\n",
       "      <td>19.8000</td>\n",
       "      <td>NaN</td>\n",
       "      <td>NaN</td>\n",
       "    </tr>\n",
       "    <tr>\n",
       "      <th>138215</th>\n",
       "      <td>Plate from Chad gadya (The Tale of a Goat)</td>\n",
       "      <td>El Lissitzky</td>\n",
       "      <td>3569</td>\n",
       "      <td>(Russian, 1890–1941)</td>\n",
       "      <td>(Russian)</td>\n",
       "      <td>(1890)</td>\n",
       "      <td>(1941)</td>\n",
       "      <td>(Male)</td>\n",
       "      <td>1919</td>\n",
       "      <td>One from an illustrated book with thirteen lit...</td>\n",
       "      <td>...</td>\n",
       "      <td>NaN</td>\n",
       "      <td>NaN</td>\n",
       "      <td>NaN</td>\n",
       "      <td>NaN</td>\n",
       "      <td>24.4000</td>\n",
       "      <td>NaN</td>\n",
       "      <td>NaN</td>\n",
       "      <td>20.8000</td>\n",
       "      <td>NaN</td>\n",
       "      <td>NaN</td>\n",
       "    </tr>\n",
       "    <tr>\n",
       "      <th>138216</th>\n",
       "      <td>Cover from Chad gadya (The Tale of a Goat)</td>\n",
       "      <td>El Lissitzky</td>\n",
       "      <td>3569</td>\n",
       "      <td>(Russian, 1890–1941)</td>\n",
       "      <td>(Russian)</td>\n",
       "      <td>(1890)</td>\n",
       "      <td>(1941)</td>\n",
       "      <td>(Male)</td>\n",
       "      <td>1919</td>\n",
       "      <td>One from an illustrated book with thirteen lit...</td>\n",
       "      <td>...</td>\n",
       "      <td>NaN</td>\n",
       "      <td>NaN</td>\n",
       "      <td>NaN</td>\n",
       "      <td>NaN</td>\n",
       "      <td>8.4000</td>\n",
       "      <td>NaN</td>\n",
       "      <td>NaN</td>\n",
       "      <td>7.8000</td>\n",
       "      <td>NaN</td>\n",
       "      <td>NaN</td>\n",
       "    </tr>\n",
       "    <tr>\n",
       "      <th>138217</th>\n",
       "      <td>Interior cover from Chad gadya (The Tale of a ...</td>\n",
       "      <td>El Lissitzky</td>\n",
       "      <td>3569</td>\n",
       "      <td>(Russian, 1890–1941)</td>\n",
       "      <td>(Russian)</td>\n",
       "      <td>(1890)</td>\n",
       "      <td>(1941)</td>\n",
       "      <td>(Male)</td>\n",
       "      <td>1919</td>\n",
       "      <td>One from an illustrated book with thirteen lit...</td>\n",
       "      <td>...</td>\n",
       "      <td>NaN</td>\n",
       "      <td>NaN</td>\n",
       "      <td>0.0</td>\n",
       "      <td>NaN</td>\n",
       "      <td>28.8000</td>\n",
       "      <td>NaN</td>\n",
       "      <td>NaN</td>\n",
       "      <td>70.8000</td>\n",
       "      <td>NaN</td>\n",
       "      <td>NaN</td>\n",
       "    </tr>\n",
       "  </tbody>\n",
       "</table>\n",
       "<p>138218 rows × 29 columns</p>\n",
       "</div>"
      ],
      "text/plain": [
       "                                                    Title  \\\n",
       "0       Ferdinandsbrücke Project, Vienna, Austria (Ele...   \n",
       "1       City of Music, National Superior Conservatory ...   \n",
       "2       Villa near Vienna Project, Outside Vienna, Aus...   \n",
       "3       The Manhattan Transcripts Project, New York, N...   \n",
       "4       Villa, project, outside Vienna, Austria, Exter...   \n",
       "...                                                   ...   \n",
       "138213         Plate from Chad gadya (The Tale of a Goat)   \n",
       "138214         Plate from Chad gadya (The Tale of a Goat)   \n",
       "138215         Plate from Chad gadya (The Tale of a Goat)   \n",
       "138216         Cover from Chad gadya (The Tale of a Goat)   \n",
       "138217  Interior cover from Chad gadya (The Tale of a ...   \n",
       "\n",
       "                          Artist ConstituentID  \\\n",
       "0                    Otto Wagner          6210   \n",
       "1       Christian de Portzamparc          7470   \n",
       "2                     Emil Hoppe          7605   \n",
       "3                Bernard Tschumi          7056   \n",
       "4                     Emil Hoppe          7605   \n",
       "...                          ...           ...   \n",
       "138213              El Lissitzky          3569   \n",
       "138214              El Lissitzky          3569   \n",
       "138215              El Lissitzky          3569   \n",
       "138216              El Lissitzky          3569   \n",
       "138217              El Lissitzky          3569   \n",
       "\n",
       "                                        ArtistBio Nationality BeginDate  \\\n",
       "0                           (Austrian, 1841–1918)  (Austrian)    (1841)   \n",
       "1                             (French, born 1944)    (French)    (1944)   \n",
       "2                           (Austrian, 1876–1957)  (Austrian)    (1876)   \n",
       "3       (French and Swiss, born Switzerland 1944)          ()    (1944)   \n",
       "4                           (Austrian, 1876–1957)  (Austrian)    (1876)   \n",
       "...                                           ...         ...       ...   \n",
       "138213                       (Russian, 1890–1941)   (Russian)    (1890)   \n",
       "138214                       (Russian, 1890–1941)   (Russian)    (1890)   \n",
       "138215                       (Russian, 1890–1941)   (Russian)    (1890)   \n",
       "138216                       (Russian, 1890–1941)   (Russian)    (1890)   \n",
       "138217                       (Russian, 1890–1941)   (Russian)    (1890)   \n",
       "\n",
       "       EndDate  Gender  Date  \\\n",
       "0       (1918)  (Male)  1896   \n",
       "1          (0)  (Male)  1987   \n",
       "2       (1957)  (Male)  1903   \n",
       "3          (0)  (Male)  1980   \n",
       "4       (1957)  (Male)  1903   \n",
       "...        ...     ...   ...   \n",
       "138213  (1941)  (Male)  1919   \n",
       "138214  (1941)  (Male)  1919   \n",
       "138215  (1941)  (Male)  1919   \n",
       "138216  (1941)  (Male)  1919   \n",
       "138217  (1941)  (Male)  1919   \n",
       "\n",
       "                                                   Medium  ...  \\\n",
       "0           Ink and cut-and-pasted painted pages on paper  ...   \n",
       "1                       Paint and colored pencil on print  ...   \n",
       "2       Graphite, pen, color pencil, ink, and gouache ...  ...   \n",
       "3       Photographic reproduction with colored synthet...  ...   \n",
       "4       Graphite, color pencil, ink, and gouache on tr...  ...   \n",
       "...                                                   ...  ...   \n",
       "138213  One from an illustrated book with thirteen lit...  ...   \n",
       "138214  One from an illustrated book with thirteen lit...  ...   \n",
       "138215  One from an illustrated book with thirteen lit...  ...   \n",
       "138216  One from an illustrated book with thirteen lit...  ...   \n",
       "138217  One from an illustrated book with thirteen lit...  ...   \n",
       "\n",
       "                                             ThumbnailURL Circumference (cm)  \\\n",
       "0       http://www.moma.org/media/W1siZiIsIjU5NDA1Il0s...                NaN   \n",
       "1       http://www.moma.org/media/W1siZiIsIjk3Il0sWyJw...                NaN   \n",
       "2       http://www.moma.org/media/W1siZiIsIjk4Il0sWyJw...                NaN   \n",
       "3       http://www.moma.org/media/W1siZiIsIjEyNCJdLFsi...                NaN   \n",
       "4       http://www.moma.org/media/W1siZiIsIjEyNiJdLFsi...                NaN   \n",
       "...                                                   ...                ...   \n",
       "138213                                                NaN                NaN   \n",
       "138214                                                NaN                NaN   \n",
       "138215                                                NaN                NaN   \n",
       "138216                                                NaN                NaN   \n",
       "138217                                                NaN                NaN   \n",
       "\n",
       "       Depth (cm) Diameter (cm) Height (cm) Length (cm) Weight (kg)  \\\n",
       "0             NaN           NaN     48.6000         NaN         NaN   \n",
       "1             NaN           NaN     40.6401         NaN         NaN   \n",
       "2             NaN           NaN     34.3000         NaN         NaN   \n",
       "3             NaN           NaN     50.8000         NaN         NaN   \n",
       "4             NaN           NaN     38.4000         NaN         NaN   \n",
       "...           ...           ...         ...         ...         ...   \n",
       "138213        NaN           NaN     24.3000         NaN         NaN   \n",
       "138214        NaN           NaN     23.4000         NaN         NaN   \n",
       "138215        NaN           NaN     24.4000         NaN         NaN   \n",
       "138216        NaN           NaN      8.4000         NaN         NaN   \n",
       "138217        0.0           NaN     28.8000         NaN         NaN   \n",
       "\n",
       "        Width (cm) Seat Height (cm) Duration (sec.)  \n",
       "0         168.9000              NaN             NaN  \n",
       "1          29.8451              NaN             NaN  \n",
       "2          31.8000              NaN             NaN  \n",
       "3          50.8000              NaN             NaN  \n",
       "4          19.1000              NaN             NaN  \n",
       "...            ...              ...             ...  \n",
       "138213     20.3000              NaN             NaN  \n",
       "138214     19.8000              NaN             NaN  \n",
       "138215     20.8000              NaN             NaN  \n",
       "138216      7.8000              NaN             NaN  \n",
       "138217     70.8000              NaN             NaN  \n",
       "\n",
       "[138218 rows x 29 columns]"
      ]
     },
     "execution_count": 24,
     "metadata": {},
     "output_type": "execute_result"
    }
   ],
   "source": [
    "#Then read the CSV file to get a better picture of the data:\n",
    "\n",
    "artworks = pd.read_csv(\"https://media.githubusercontent.com/media/MuseumofModernArt/collection/master/Artworks.csv\")\n",
    "artworks"
   ]
  },
  {
   "cell_type": "code",
   "execution_count": 25,
   "metadata": {},
   "outputs": [
    {
     "name": "stdout",
     "output_type": "stream",
     "text": [
      "artworks column names= Index(['Title', 'Artist', 'ConstituentID', 'ArtistBio', 'Nationality',\n",
      "       'BeginDate', 'EndDate', 'Gender', 'Date', 'Medium', 'Dimensions',\n",
      "       'CreditLine', 'AccessionNumber', 'Classification', 'Department',\n",
      "       'DateAcquired', 'Cataloged', 'ObjectID', 'URL', 'ThumbnailURL',\n",
      "       'Circumference (cm)', 'Depth (cm)', 'Diameter (cm)', 'Height (cm)',\n",
      "       'Length (cm)', 'Weight (kg)', 'Width (cm)', 'Seat Height (cm)',\n",
      "       'Duration (sec.)'],\n",
      "      dtype='object')\n"
     ]
    }
   ],
   "source": [
    "#Print out column names to get it as a list:\n",
    "\n",
    "print('artworks column names=', artworks.columns)"
   ]
  },
  {
   "cell_type": "code",
   "execution_count": 26,
   "metadata": {},
   "outputs": [
    {
     "name": "stdout",
     "output_type": "stream",
     "text": [
      "artworks column names Index(['Title', 'Artist', 'Date', 'CreditLine', 'Classification', 'Department',\n",
      "       'DateAcquired'],\n",
      "      dtype='object')\n"
     ]
    }
   ],
   "source": [
    "#Drop the following columns that are not necessary for my current analysis:\n",
    "\n",
    "artworks.drop(columns = ['URL', 'ThumbnailURL', 'Circumference (cm)', 'Depth (cm)', 'Diameter (cm)', 'Height (cm)',\n",
    "       'Length (cm)', 'Weight (kg)', 'Width (cm)', 'Seat Height (cm)','Duration (sec.)', 'AccessionNumber', \n",
    "        'Medium', 'Dimensions', 'BeginDate', 'EndDate','ArtistBio', 'Cataloged', 'ObjectID', 'ConstituentID',\n",
    "        'Nationality', 'Gender'], inplace = True)\n",
    "print('artworks column names', artworks.columns)"
   ]
  },
  {
   "cell_type": "code",
   "execution_count": 27,
   "metadata": {},
   "outputs": [
    {
     "name": "stdout",
     "output_type": "stream",
     "text": [
      "artworks missing data:\n",
      "Title               39\n",
      "Artist            1310\n",
      "Date              2222\n",
      "CreditLine        2471\n",
      "Classification       0\n",
      "Department           0\n",
      "DateAcquired      7132\n",
      "dtype: int64\n"
     ]
    }
   ],
   "source": [
    "#Determine if there are any missing data:\n",
    "\n",
    "print('artworks missing data:')\n",
    "print(artworks.isnull().sum())"
   ]
  },
  {
   "cell_type": "code",
   "execution_count": 28,
   "metadata": {},
   "outputs": [
    {
     "data": {
      "text/plain": [
       "Title             object\n",
       "Artist            object\n",
       "Date              object\n",
       "CreditLine        object\n",
       "Classification    object\n",
       "Department        object\n",
       "DateAcquired      object\n",
       "dtype: object"
      ]
     },
     "execution_count": 28,
     "metadata": {},
     "output_type": "execute_result"
    }
   ],
   "source": [
    "#Check data types:\n",
    "\n",
    "df = artworks\n",
    "df.dtypes"
   ]
  },
  {
   "cell_type": "code",
   "execution_count": 29,
   "metadata": {},
   "outputs": [],
   "source": [
    "#Change all columns from object to string:\n",
    "\n",
    "df['Title'] = df['Title'].astype(str)\n",
    "df['Artist'] = df['Artist'].astype(str)\n",
    "df['CreditLine'] = df['CreditLine'].astype(str)\n",
    "df['Classification'] = df['Classification'].astype(str)\n",
    "df['Department'] = df['Department'].astype(str)\n",
    "df['Date'] = df['Date'].astype(str)"
   ]
  },
  {
   "cell_type": "code",
   "execution_count": 30,
   "metadata": {},
   "outputs": [],
   "source": [
    "df['DateAcquired'] = pd.to_datetime(df['DateAcquired']).dt.strftime(\"%Y%m%d\")"
   ]
  },
  {
   "cell_type": "code",
   "execution_count": 31,
   "metadata": {},
   "outputs": [],
   "source": [
    "#Ensure that the nan values are also getting read:\n",
    "\n",
    "df = pd.read_csv('https://media.githubusercontent.com/media/MuseumofModernArt/collection/master/Artworks.csv', na_values=['nan'])"
   ]
  },
  {
   "cell_type": "code",
   "execution_count": 32,
   "metadata": {},
   "outputs": [],
   "source": [
    "#Fill in missing data:\n",
    "\n",
    "df['Title'].fillna('N/A', inplace = True) \n",
    "df['Artist'].fillna('N/A', inplace = True) \n",
    "df['CreditLine'].fillna('N/A', inplace = True) \n",
    "df['Classification'].fillna('N/A', inplace = True) \n",
    "df['Department'].fillna('N/A', inplace = True) \n",
    "df['Date'].fillna('N/A', inplace = True)\n",
    "df['DateAcquired'].fillna('N/A', inplace = True)"
   ]
  },
  {
   "cell_type": "code",
   "execution_count": 33,
   "metadata": {},
   "outputs": [
    {
     "data": {
      "text/plain": [
       "138218"
      ]
     },
     "execution_count": 33,
     "metadata": {},
     "output_type": "execute_result"
    }
   ],
   "source": [
    "#Confirm that the number of entries is consistent with what MoMA's Github states. We both have 138,218 records.\n",
    "\n",
    "len(df)"
   ]
  },
  {
   "cell_type": "markdown",
   "metadata": {},
   "source": [
    "# Analysis & Visualizations"
   ]
  },
  {
   "cell_type": "code",
   "execution_count": 34,
   "metadata": {},
   "outputs": [
    {
     "data": {
      "text/plain": [
       "array(['Architecture & Design', 'Drawings & Prints',\n",
       "       'Painting & Sculpture', 'Photography', 'Media and Performance',\n",
       "       'Film', 'Architecture & Design - Image Archive',\n",
       "       'Fluxus Collection'], dtype=object)"
      ]
     },
     "execution_count": 34,
     "metadata": {},
     "output_type": "execute_result"
    }
   ],
   "source": [
    "df['Department'].unique()"
   ]
  },
  {
   "cell_type": "markdown",
   "metadata": {},
   "source": [
    "Listing each department name."
   ]
  },
  {
   "cell_type": "code",
   "execution_count": 35,
   "metadata": {},
   "outputs": [
    {
     "data": {
      "text/plain": [
       "(array([0, 1, 2, 3, 4, 5, 6, 7]), <a list of 8 Text major ticklabel objects>)"
      ]
     },
     "execution_count": 35,
     "metadata": {},
     "output_type": "execute_result"
    },
    {
     "data": {
      "image/png": "[encoded data removed]",
      "text/plain": [
       "<Figure size 432x288 with 1 Axes>"
      ]
     },
     "metadata": {
      "needs_background": "light"
     },
     "output_type": "display_data"
    }
   ],
   "source": [
    "# Count Plot (a.k.a. Bar Plot)\n",
    "sns.countplot(x='Department', data=df, order = df['Department'].value_counts().index)\n",
    " \n",
    "# Rotate x-labels\n",
    "plt.xticks(rotation=-90)"
   ]
  },
  {
   "cell_type": "markdown",
   "metadata": {},
   "source": [
    "Then create a chart that shows the distribution of artworks between each departments. From the chart, we can see that the Drawings & Prints department contains the most artworks."
   ]
  },
  {
   "cell_type": "code",
   "execution_count": 36,
   "metadata": {},
   "outputs": [
    {
     "data": {
      "text/plain": [
       "array(['Architecture', 'Mies van der Rohe Archive', 'Design',\n",
       "       'Illustrated Book', 'Print', 'Drawing', 'Periodical', 'Film',\n",
       "       'Multiple', 'Installation', 'Film (object)', 'Photograph',\n",
       "       'Painting', 'Ephemera', 'Photography Research/Reference', 'Video',\n",
       "       'Media', 'Performance', 'Sculpture', 'Work on Paper', 'Poster',\n",
       "       'Audio', '(not assigned)', 'Textile', 'Digital', 'Collage',\n",
       "       'Graphic Design', 'Frank Lloyd Wright Archive',\n",
       "       'Furniture and Interiors', 'Software', 'Architectural Model',\n",
       "       'Publication'], dtype=object)"
      ]
     },
     "execution_count": 36,
     "metadata": {},
     "output_type": "execute_result"
    }
   ],
   "source": [
    "df['Classification'].unique()"
   ]
  },
  {
   "cell_type": "markdown",
   "metadata": {},
   "source": [
    "Listing every classification used to label artworks."
   ]
  },
  {
   "cell_type": "code",
   "execution_count": 37,
   "metadata": {},
   "outputs": [
    {
     "data": {
      "text/plain": [
       "(array([ 0,  1,  2,  3,  4,  5,  6,  7,  8,  9, 10, 11, 12, 13, 14, 15, 16,\n",
       "        17, 18, 19, 20, 21, 22, 23, 24, 25, 26, 27, 28, 29, 30, 31]),\n",
       " <a list of 32 Text major ticklabel objects>)"
      ]
     },
     "execution_count": 37,
     "metadata": {},
     "output_type": "execute_result"
    },
    {
     "data": {
      "image/png": "[encoded data removed]",
      "text/plain": [
       "<Figure size 432x288 with 1 Axes>"
      ]
     },
     "metadata": {
      "needs_background": "light"
     },
     "output_type": "display_data"
    }
   ],
   "source": [
    "sns.countplot(x='Classification', data=df, order = df['Classification'].value_counts().index)\n",
    " \n",
    "plt.xticks(rotation=-90)"
   ]
  },
  {
   "cell_type": "code",
   "execution_count": 38,
   "metadata": {},
   "outputs": [
    {
     "data": {
      "text/plain": [
       "Photograph                   32915\n",
       "Print                        31875\n",
       "Illustrated Book             27450\n",
       "Drawing                      13372\n",
       "Design                       12011\n",
       "Architecture                  3462\n",
       "Mies van der Rohe Archive     3418\n",
       "Video                         2521\n",
       "Painting                      2362\n",
       "Sculpture                     1725\n",
       "Name: Classification, dtype: int64"
      ]
     },
     "execution_count": 38,
     "metadata": {},
     "output_type": "execute_result"
    }
   ],
   "source": [
    "df['Classification'].value_counts()[:10]"
   ]
  },
  {
   "cell_type": "markdown",
   "metadata": {},
   "source": [
    "Plotting the classifications helps to confirm that the Drawings & Prints department holds the most artworks. However, the graph and the actual counts for each classification shows that the photograph classification actually contains more artworks, with print coming in close."
   ]
  },
  {
   "cell_type": "code",
   "execution_count": 39,
   "metadata": {},
   "outputs": [
    {
     "data": {
      "text/plain": [
       "<matplotlib.axes._subplots.AxesSubplot at 0x7fdce2acfad0>"
      ]
     },
     "execution_count": 39,
     "metadata": {},
     "output_type": "execute_result"
    },
    {
     "data": {
      "image/png": "[encoded data removed]",
      "text/plain": [
       "<Figure size 432x288 with 1 Axes>"
      ]
     },
     "metadata": {
      "needs_background": "light"
     },
     "output_type": "display_data"
    }
   ],
   "source": [
    "df['Date'].value_counts()[:10].plot(kind='bar')"
   ]
  },
  {
   "cell_type": "markdown",
   "metadata": {},
   "source": [
    "We can see that a leading number of artworks do not have a creation date, as it may be missing or uknown. However, it is interesting to see the 1960's-1970's heavily represented when plotting the top ten dates, suggesting that many of the museum's artworks were created during this period."
   ]
  },
  {
   "cell_type": "code",
   "execution_count": 40,
   "metadata": {},
   "outputs": [
    {
     "data": {
      "text/plain": [
       "<matplotlib.axes._subplots.AxesSubplot at 0x7fdce2941a10>"
      ]
     },
     "execution_count": 40,
     "metadata": {},
     "output_type": "execute_result"
    },
    {
     "data": {
      "image/png": "[encoded data removed]",
      "text/plain": [
       "<Figure size 432x288 with 1 Axes>"
      ]
     },
     "metadata": {
      "needs_background": "light"
     },
     "output_type": "display_data"
    }
   ],
   "source": [
    "df['DateAcquired'].value_counts()[:10].plot(kind='bar')"
   ]
  },
  {
   "cell_type": "markdown",
   "metadata": {},
   "source": [
    "The museum acquired a good number of its artworks from the year 1964. This decade aligns with the creation dates of most of the artworks in the musuem, which may suggest that the museum was actively acquiring during this period when many artworks were being created."
   ]
  },
  {
   "cell_type": "code",
   "execution_count": 41,
   "metadata": {},
   "outputs": [
    {
     "data": {
      "text/plain": [
       "<matplotlib.axes._subplots.AxesSubplot at 0x7fdce22111d0>"
      ]
     },
     "execution_count": 41,
     "metadata": {},
     "output_type": "execute_result"
    },
    {
     "data": {
      "image/png": "[encoded data removed]",
      "text/plain": [
       "<Figure size 432x288 with 1 Axes>"
      ]
     },
     "metadata": {
      "needs_background": "light"
     },
     "output_type": "display_data"
    }
   ],
   "source": [
    "df['CreditLine'].value_counts()[:10].plot(kind='barh')"
   ]
  },
  {
   "cell_type": "markdown",
   "metadata": {},
   "source": [
    "When plotting the CreditLine data, we see that the Louis E. Stern Collection contributed the most artworks to the museum. By looking at the top ten CreditLines by count, it illustrates that most of the museum's artworks were gifts/donations from organizations and collectors."
   ]
  },
  {
   "cell_type": "code",
   "execution_count": 42,
   "metadata": {},
   "outputs": [
    {
     "data": {
      "text/plain": [
       "<matplotlib.axes._subplots.AxesSubplot at 0x7fdce234f410>"
      ]
     },
     "execution_count": 42,
     "metadata": {},
     "output_type": "execute_result"
    },
    {
     "data": {
      "image/png": "[encoded data removed]",
      "text/plain": [
       "<Figure size 432x288 with 1 Axes>"
      ]
     },
     "metadata": {
      "needs_background": "light"
     },
     "output_type": "display_data"
    }
   ],
   "source": [
    "df['Artist'].value_counts()[:10].plot(kind='barh')"
   ]
  },
  {
   "cell_type": "markdown",
   "metadata": {},
   "source": [
    "Eugene Atget is the artist who has the most artworks in MoMA's collection. Other familiar names have also made their way into the top ten list of artists by count of artworks."
   ]
  },
  {
   "cell_type": "code",
   "execution_count": 43,
   "metadata": {},
   "outputs": [
    {
     "data": {
      "text/plain": [
       "<matplotlib.axes._subplots.AxesSubplot at 0x7fdce23822d0>"
      ]
     },
     "execution_count": 43,
     "metadata": {},
     "output_type": "execute_result"
    },
    {
     "data": {
      "image/png": "[encoded data removed]",
      "text/plain": [
       "<Figure size 432x288 with 1 Axes>"
      ]
     },
     "metadata": {
      "needs_background": "light"
     },
     "output_type": "display_data"
    }
   ],
   "source": [
    "df['Title'].value_counts()[:10].plot(kind='barh')"
   ]
  },
  {
   "cell_type": "markdown",
   "metadata": {},
   "source": [
    "Finally, I wanted to see if there were any extensive works of art in MoMA's collection. The chart lists 'Untitled' as the most extensive work of art. However, many artworks do not have titles and are not necessarily from the same set of work. As such, 'Untitled' may just be all of the museum's works that have unknown or missing titles grouped together as one. "
   ]
  },
  {
   "cell_type": "markdown",
   "metadata": {},
   "source": [
    "# Findings\n",
    "\n",
    "From this exploratory analysis of the MoMA artworks dataset, it appears that the most represented type of art is either a print/drawing or photograph that came from a collector or organization. Although the years of creation are unknown for many works, the 1960's-1970's seem to have produced the most artworks, with MoMA also acquiring and adding to its collection during this time."
   ]
  },
  {
   "cell_type": "code",
   "execution_count": null,
   "metadata": {},
   "outputs": [],
   "source": []
  }
 ],
 "metadata": {
  "kernelspec": {
   "display_name": "pratt_ml",
   "language": "python",
   "name": "pratt_ml"
  },
  "language_info": {
   "codemirror_mode": {
    "name": "ipython",
    "version": 3
   },
   "file_extension": ".py",
   "mimetype": "text/x-python",
   "name": "python",
   "nbconvert_exporter": "python",
   "pygments_lexer": "ipython3",
   "version": "3.7.7"
  }
 },
 "nbformat": 4,
 "nbformat_minor": 4
}
